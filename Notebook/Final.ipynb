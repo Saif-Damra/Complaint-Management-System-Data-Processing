{
  "cells": [
    {
      "cell_type": "code",
      "execution_count": 3,
      "metadata": {
        "id": "-jLBfoR5Z2XA"
      },
      "outputs": [],
      "source": [
        "import numpy as np\n",
        "import pandas as pd\n",
        "df = pd.read_csv('Complaints.csv')"
      ]
    },
    {
      "cell_type": "code",
      "execution_count": 4,
      "metadata": {
        "colab": {
          "base_uri": "https://localhost:8080/",
          "height": 473
        },
        "id": "CfhhSMwJZ2XC",
        "outputId": "578c82fd-acb8-4814-94e2-3073c181f4ec"
      },
      "outputs": [
        {
          "data": {
            "text/html": [
              "<div>\n",
              "<style scoped>\n",
              "    .dataframe tbody tr th:only-of-type {\n",
              "        vertical-align: middle;\n",
              "    }\n",
              "\n",
              "    .dataframe tbody tr th {\n",
              "        vertical-align: top;\n",
              "    }\n",
              "\n",
              "    .dataframe thead th {\n",
              "        text-align: right;\n",
              "    }\n",
              "</style>\n",
              "<table border=\"1\" class=\"dataframe\">\n",
              "  <thead>\n",
              "    <tr style=\"text-align: right;\">\n",
              "      <th></th>\n",
              "      <th>CASE_ID</th>\n",
              "      <th>OFFER_NAME</th>\n",
              "      <th>CUSTOMER_TYPE</th>\n",
              "      <th>CUSTOMER_GROUP</th>\n",
              "      <th>CURRENT_STATUS</th>\n",
              "      <th>ESCALATION_FLAG</th>\n",
              "      <th>ESCALATED_GROUP</th>\n",
              "      <th>OPEN_DATE</th>\n",
              "      <th>OPEN_USER</th>\n",
              "      <th>CLOSE_DATE</th>\n",
              "      <th>...</th>\n",
              "      <th>AGE_BRACKET</th>\n",
              "      <th>ACTUAL_COMPLAINT</th>\n",
              "      <th>CALLBACK_MECHANISM</th>\n",
              "      <th>RESOLUTION</th>\n",
              "      <th>RESOLUTION_DESCRIPTION</th>\n",
              "      <th>CASE_DESC</th>\n",
              "      <th>OPEN_GR</th>\n",
              "      <th>COMPLAINT_TYPE</th>\n",
              "      <th>PRODUCT</th>\n",
              "      <th>CASE</th>\n",
              "    </tr>\n",
              "  </thead>\n",
              "  <tbody>\n",
              "    <tr>\n",
              "      <th>0</th>\n",
              "      <td>CAS-1060890-L3D6Q6</td>\n",
              "      <td>FTTH Home</td>\n",
              "      <td>CBU</td>\n",
              "      <td>FTTH Home</td>\n",
              "      <td>Resolved</td>\n",
              "      <td>Yes</td>\n",
              "      <td>F&amp;I_BO</td>\n",
              "      <td>19.06.2022 06:07</td>\n",
              "      <td>DANA</td>\n",
              "      <td>21.06.2022 13:41</td>\n",
              "      <td>...</td>\n",
              "      <td>2.0</td>\n",
              "      <td>Actual Complaint</td>\n",
              "      <td>Phone</td>\n",
              "      <td>NaN</td>\n",
              "      <td>NaN</td>\n",
              "      <td>NaN</td>\n",
              "      <td>CBU / EBU - personal view</td>\n",
              "      <td>Technical</td>\n",
              "      <td>Internet</td>\n",
              "      <td>Technical complaint</td>\n",
              "    </tr>\n",
              "    <tr>\n",
              "      <th>1</th>\n",
              "      <td>CAS-388567-W4B9Q3</td>\n",
              "      <td>NaN</td>\n",
              "      <td>CBU</td>\n",
              "      <td>NaN</td>\n",
              "      <td>Resolved</td>\n",
              "      <td>Yes</td>\n",
              "      <td>Mobile_BO</td>\n",
              "      <td>04.04.2022 14:11</td>\n",
              "      <td>TCRMService</td>\n",
              "      <td>05.04.2022 12:13</td>\n",
              "      <td>...</td>\n",
              "      <td>1.0</td>\n",
              "      <td>Not Actual Complaint</td>\n",
              "      <td>Phone</td>\n",
              "      <td>NaN</td>\n",
              "      <td>NaN</td>\n",
              "      <td>NaN</td>\n",
              "      <td>System Administrator</td>\n",
              "      <td>Commercial</td>\n",
              "      <td>Mobile</td>\n",
              "      <td>Commercial claim</td>\n",
              "    </tr>\n",
              "    <tr>\n",
              "      <th>2</th>\n",
              "      <td>CAS-1494939-L9F0X7</td>\n",
              "      <td>Bitstream Home</td>\n",
              "      <td>CBU</td>\n",
              "      <td>Wanadoo-ADSL-Res</td>\n",
              "      <td>Resolved</td>\n",
              "      <td>No</td>\n",
              "      <td>NaN</td>\n",
              "      <td>03.08.2022 03:20</td>\n",
              "      <td>MOUTAZ</td>\n",
              "      <td>03.08.2022 03:20</td>\n",
              "      <td>...</td>\n",
              "      <td>1.0</td>\n",
              "      <td>User Not Filled</td>\n",
              "      <td>NaN</td>\n",
              "      <td>NaN</td>\n",
              "      <td>NaN</td>\n",
              "      <td>NaN</td>\n",
              "      <td>CBU - CC 1st Layer A</td>\n",
              "      <td>Technical</td>\n",
              "      <td>Internet</td>\n",
              "      <td>Technical complaint</td>\n",
              "    </tr>\n",
              "    <tr>\n",
              "      <th>3</th>\n",
              "      <td>CAS-1059985-K3Y9F7</td>\n",
              "      <td>FTTH Home</td>\n",
              "      <td>CBU</td>\n",
              "      <td>FTTH Home</td>\n",
              "      <td>Resolved</td>\n",
              "      <td>No</td>\n",
              "      <td>NaN</td>\n",
              "      <td>18.06.2022 20:38</td>\n",
              "      <td>MOATH</td>\n",
              "      <td>18.06.2022 20:38</td>\n",
              "      <td>...</td>\n",
              "      <td>1.0</td>\n",
              "      <td>User Not Filled</td>\n",
              "      <td>NaN</td>\n",
              "      <td>NaN</td>\n",
              "      <td>NaN</td>\n",
              "      <td>NaN</td>\n",
              "      <td>NaN</td>\n",
              "      <td>Technical</td>\n",
              "      <td>Internet</td>\n",
              "      <td>Technical complaint</td>\n",
              "    </tr>\n",
              "    <tr>\n",
              "      <th>4</th>\n",
              "      <td>CAS-1239942-Y1S2F5</td>\n",
              "      <td>FTTH Home</td>\n",
              "      <td>CBU</td>\n",
              "      <td>FTTH Home</td>\n",
              "      <td>Resolved</td>\n",
              "      <td>No</td>\n",
              "      <td>NaN</td>\n",
              "      <td>06.07.2022 01:22</td>\n",
              "      <td>IBRAHIM</td>\n",
              "      <td>06.07.2022 01:22</td>\n",
              "      <td>...</td>\n",
              "      <td>1.0</td>\n",
              "      <td>User Not Filled</td>\n",
              "      <td>NaN</td>\n",
              "      <td>NaN</td>\n",
              "      <td>NaN</td>\n",
              "      <td>NaN</td>\n",
              "      <td>CBU - CC 1st Layer A</td>\n",
              "      <td>Technical</td>\n",
              "      <td>Internet</td>\n",
              "      <td>Technical complaint</td>\n",
              "    </tr>\n",
              "  </tbody>\n",
              "</table>\n",
              "<p>5 rows × 22 columns</p>\n",
              "</div>"
            ],
            "text/plain": [
              "              CASE_ID      OFFER_NAME CUSTOMER_TYPE    CUSTOMER_GROUP  \\\n",
              "0  CAS-1060890-L3D6Q6       FTTH Home           CBU         FTTH Home   \n",
              "1   CAS-388567-W4B9Q3             NaN           CBU               NaN   \n",
              "2  CAS-1494939-L9F0X7  Bitstream Home           CBU  Wanadoo-ADSL-Res   \n",
              "3  CAS-1059985-K3Y9F7       FTTH Home           CBU         FTTH Home   \n",
              "4  CAS-1239942-Y1S2F5       FTTH Home           CBU         FTTH Home   \n",
              "\n",
              "  CURRENT_STATUS ESCALATION_FLAG ESCALATED_GROUP         OPEN_DATE  \\\n",
              "0       Resolved             Yes          F&I_BO  19.06.2022 06:07   \n",
              "1       Resolved             Yes       Mobile_BO  04.04.2022 14:11   \n",
              "2       Resolved              No             NaN  03.08.2022 03:20   \n",
              "3       Resolved              No             NaN  18.06.2022 20:38   \n",
              "4       Resolved              No             NaN  06.07.2022 01:22   \n",
              "\n",
              "     OPEN_USER        CLOSE_DATE  ... AGE_BRACKET      ACTUAL_COMPLAINT  \\\n",
              "0         DANA  21.06.2022 13:41  ...         2.0      Actual Complaint   \n",
              "1  TCRMService  05.04.2022 12:13  ...         1.0  Not Actual Complaint   \n",
              "2       MOUTAZ  03.08.2022 03:20  ...         1.0       User Not Filled   \n",
              "3        MOATH  18.06.2022 20:38  ...         1.0       User Not Filled   \n",
              "4      IBRAHIM  06.07.2022 01:22  ...         1.0       User Not Filled   \n",
              "\n",
              "   CALLBACK_MECHANISM RESOLUTION RESOLUTION_DESCRIPTION CASE_DESC  \\\n",
              "0               Phone        NaN                    NaN       NaN   \n",
              "1               Phone        NaN                    NaN       NaN   \n",
              "2                 NaN        NaN                    NaN       NaN   \n",
              "3                 NaN        NaN                    NaN       NaN   \n",
              "4                 NaN        NaN                    NaN       NaN   \n",
              "\n",
              "                     OPEN_GR COMPLAINT_TYPE   PRODUCT                 CASE  \n",
              "0  CBU / EBU - personal view      Technical  Internet  Technical complaint  \n",
              "1       System Administrator     Commercial    Mobile     Commercial claim  \n",
              "2      CBU - CC 1st Layer A       Technical  Internet  Technical complaint  \n",
              "3                        NaN      Technical  Internet  Technical complaint  \n",
              "4      CBU - CC 1st Layer A       Technical  Internet  Technical complaint  \n",
              "\n",
              "[5 rows x 22 columns]"
            ]
          },
          "execution_count": 4,
          "metadata": {},
          "output_type": "execute_result"
        }
      ],
      "source": [
        "df.head()"
      ]
    },
    {
      "cell_type": "code",
      "execution_count": 5,
      "metadata": {
        "id": "s7LIMSqNZ2XE"
      },
      "outputs": [
        {
          "data": {
            "text/plain": [
              "CASE_ID                    0.000000\n",
              "OFFER_NAME                12.414786\n",
              "CUSTOMER_TYPE              0.000000\n",
              "CUSTOMER_GROUP            12.942871\n",
              "CURRENT_STATUS             0.000000\n",
              "ESCALATION_FLAG            0.000000\n",
              "ESCALATED_GROUP           67.738838\n",
              "OPEN_DATE                  0.000000\n",
              "OPEN_USER                  3.475756\n",
              "CLOSE_DATE                 1.142583\n",
              "CLOSE_GROUP               46.951512\n",
              "CLOSE_USER                 4.954393\n",
              "AGE_BRACKET                1.142583\n",
              "ACTUAL_COMPLAINT           0.000000\n",
              "CALLBACK_MECHANISM        69.870379\n",
              "RESOLUTION                99.241479\n",
              "RESOLUTION_DESCRIPTION    99.625540\n",
              "CASE_DESC                 88.747000\n",
              "OPEN_GR                   43.792607\n",
              "COMPLAINT_TYPE             0.000000\n",
              "PRODUCT                    0.000000\n",
              "CASE                       0.000000\n",
              "dtype: float64"
            ]
          },
          "execution_count": 5,
          "metadata": {},
          "output_type": "execute_result"
        }
      ],
      "source": [
        "#Find the percentage of missing values in each column in the dataset\n",
        "percent_missing = df.isnull().sum() * 100 / len(df)\n",
        "percent_missing"
      ]
    },
    {
      "cell_type": "code",
      "execution_count": 6,
      "metadata": {
        "id": "A1HyJJI6Z2XE"
      },
      "outputs": [],
      "source": [
        "# Drop RESOLUTION, RESOLUTION_DESCRIPTION and CASE_DESC because high percentage of missing values\n",
        "df.drop(['RESOLUTION','RESOLUTION_DESCRIPTION','CASE_DESC'],axis=1,inplace=True)"
      ]
    },
    {
      "cell_type": "markdown",
      "metadata": {
        "id": "wcb9HtPEZ2XE"
      },
      "source": [
        "**Open and close user**"
      ]
    },
    {
      "cell_type": "code",
      "execution_count": 7,
      "metadata": {
        "id": "rUJ2DVGrZ2XG"
      },
      "outputs": [],
      "source": [
        "#I assumed CLOSE_USER is the same as OPEN_USER\n",
        "df['CLOSE_USER'] = df['CLOSE_USER'].fillna(df['OPEN_USER'])\n",
        "#I filled in the rest with Unknown\n",
        "df.fillna({'CLOSE_USER':'Unknown', 'OPEN_USER':'Unknown'}, inplace=True)"
      ]
    },
    {
      "cell_type": "markdown",
      "metadata": {
        "id": "oa0xm5ggZ2XG"
      },
      "source": [
        "**Close date**"
      ]
    },
    {
      "cell_type": "code",
      "execution_count": 8,
      "metadata": {
        "id": "34BmcqW1Z2XG"
      },
      "outputs": [],
      "source": [
        "df = df.dropna(subset=['CLOSE_DATE'])"
      ]
    },
    {
      "cell_type": "markdown",
      "metadata": {
        "id": "hnYL1-hlZ2XH"
      },
      "source": [
        "**ESCALATED_GROUP**"
      ]
    },
    {
      "cell_type": "code",
      "execution_count": 9,
      "metadata": {
        "colab": {
          "base_uri": "https://localhost:8080/"
        },
        "id": "8b3yvXwWZ2XH",
        "outputId": "819fa5d9-8a69-4aae-df34-bdcf54620112"
      },
      "outputs": [],
      "source": [
        "#Because it did not move to another department\n",
        "df['ESCALATED_GROUP'] = df['ESCALATED_GROUP'].fillna('NO_GROUP')"
      ]
    },
    {
      "cell_type": "markdown",
      "metadata": {
        "id": "EBMXbSerZ2XH"
      },
      "source": [
        "**CALLBACK_MECHANISM**"
      ]
    },
    {
      "cell_type": "code",
      "execution_count": 10,
      "metadata": {
        "colab": {
          "base_uri": "https://localhost:8080/"
        },
        "id": "WzQIKEUYZ2XI",
        "outputId": "ed895406-28d1-4d83-d255-5ff8750b5327"
      },
      "outputs": [],
      "source": [
        "df['CALLBACK_MECHANISM'].fillna(df['CALLBACK_MECHANISM'].mode()[0], inplace=True)"
      ]
    },
    {
      "cell_type": "markdown",
      "metadata": {
        "id": "c4b9tdyDZ2XI"
      },
      "source": [
        "**Offer Name and Customer Group**"
      ]
    },
    {
      "cell_type": "code",
      "execution_count": 11,
      "metadata": {
        "colab": {
          "base_uri": "https://localhost:8080/",
          "height": 834
        },
        "id": "fD4j7KxzdDlg",
        "outputId": "2d58bdbf-67f0-453a-a1d6-b5d671059d80"
      },
      "outputs": [
        {
          "data": {
            "text/html": [
              "<div>\n",
              "<style scoped>\n",
              "    .dataframe tbody tr th:only-of-type {\n",
              "        vertical-align: middle;\n",
              "    }\n",
              "\n",
              "    .dataframe tbody tr th {\n",
              "        vertical-align: top;\n",
              "    }\n",
              "\n",
              "    .dataframe thead th {\n",
              "        text-align: right;\n",
              "    }\n",
              "</style>\n",
              "<table border=\"1\" class=\"dataframe\">\n",
              "  <thead>\n",
              "    <tr style=\"text-align: right;\">\n",
              "      <th></th>\n",
              "      <th>CASE_ID</th>\n",
              "      <th>OFFER_NAME</th>\n",
              "      <th>CUSTOMER_TYPE</th>\n",
              "      <th>CUSTOMER_GROUP</th>\n",
              "      <th>CURRENT_STATUS</th>\n",
              "      <th>ESCALATION_FLAG</th>\n",
              "      <th>ESCALATED_GROUP</th>\n",
              "      <th>OPEN_DATE</th>\n",
              "      <th>OPEN_USER</th>\n",
              "      <th>CLOSE_DATE</th>\n",
              "      <th>CLOSE_GROUP</th>\n",
              "      <th>CLOSE_USER</th>\n",
              "      <th>AGE_BRACKET</th>\n",
              "      <th>ACTUAL_COMPLAINT</th>\n",
              "      <th>CALLBACK_MECHANISM</th>\n",
              "      <th>OPEN_GR</th>\n",
              "      <th>COMPLAINT_TYPE</th>\n",
              "      <th>PRODUCT</th>\n",
              "      <th>CASE</th>\n",
              "    </tr>\n",
              "  </thead>\n",
              "  <tbody>\n",
              "    <tr>\n",
              "      <th>1</th>\n",
              "      <td>CAS-388567-W4B9Q3</td>\n",
              "      <td>NaN</td>\n",
              "      <td>CBU</td>\n",
              "      <td>NaN</td>\n",
              "      <td>Resolved</td>\n",
              "      <td>Yes</td>\n",
              "      <td>Mobile_BO</td>\n",
              "      <td>04.04.2022 14:11</td>\n",
              "      <td>TCRMService</td>\n",
              "      <td>05.04.2022 12:13</td>\n",
              "      <td>Mobile_BO</td>\n",
              "      <td>ENNAS</td>\n",
              "      <td>1.0</td>\n",
              "      <td>Not Actual Complaint</td>\n",
              "      <td>Phone</td>\n",
              "      <td>System Administrator</td>\n",
              "      <td>Commercial</td>\n",
              "      <td>Mobile</td>\n",
              "      <td>Commercial claim</td>\n",
              "    </tr>\n",
              "    <tr>\n",
              "      <th>7</th>\n",
              "      <td>CAS-1402363-R0K4K0</td>\n",
              "      <td>NaN</td>\n",
              "      <td>CBU</td>\n",
              "      <td>NaN</td>\n",
              "      <td>Resolved</td>\n",
              "      <td>Yes</td>\n",
              "      <td>Mobile_BO</td>\n",
              "      <td>25.07.2022 03:09</td>\n",
              "      <td>TCRMService</td>\n",
              "      <td>27.07.2022 17:58</td>\n",
              "      <td>ORANGE_MONEY_BO</td>\n",
              "      <td>IBRAHEEM</td>\n",
              "      <td>2.0</td>\n",
              "      <td>Actual Complaint</td>\n",
              "      <td>Phone</td>\n",
              "      <td>System Administrator</td>\n",
              "      <td>Commercial</td>\n",
              "      <td>Mobile</td>\n",
              "      <td>Commercial claim</td>\n",
              "    </tr>\n",
              "    <tr>\n",
              "      <th>10</th>\n",
              "      <td>CAS-592778-K0F2X3</td>\n",
              "      <td>NaN</td>\n",
              "      <td>CBU</td>\n",
              "      <td>NaN</td>\n",
              "      <td>Resolved</td>\n",
              "      <td>Yes</td>\n",
              "      <td>Mobile_BO</td>\n",
              "      <td>27.04.2022 14:03</td>\n",
              "      <td>TCRMService</td>\n",
              "      <td>05.05.2022 16:03</td>\n",
              "      <td>Mobile_BO</td>\n",
              "      <td>TCRMService</td>\n",
              "      <td>8.0</td>\n",
              "      <td>Actual Complaint</td>\n",
              "      <td>Phone</td>\n",
              "      <td>System Administrator</td>\n",
              "      <td>Commercial</td>\n",
              "      <td>Mobile</td>\n",
              "      <td>Commercial claim</td>\n",
              "    </tr>\n",
              "    <tr>\n",
              "      <th>12</th>\n",
              "      <td>CAS-495398-Y7N3Q8</td>\n",
              "      <td>NaN</td>\n",
              "      <td>CBU</td>\n",
              "      <td>NaN</td>\n",
              "      <td>Resolved</td>\n",
              "      <td>Yes</td>\n",
              "      <td>Mobile_BO</td>\n",
              "      <td>17.04.2022 18:32</td>\n",
              "      <td>TCRMService</td>\n",
              "      <td>19.04.2022 15:22</td>\n",
              "      <td>ORANGE_MONEY_BO</td>\n",
              "      <td>MOHAMMAD</td>\n",
              "      <td>1.0</td>\n",
              "      <td>Actual Complaint</td>\n",
              "      <td>Phone</td>\n",
              "      <td>System Administrator</td>\n",
              "      <td>Commercial</td>\n",
              "      <td>Mobile</td>\n",
              "      <td>Commercial claim</td>\n",
              "    </tr>\n",
              "    <tr>\n",
              "      <th>13</th>\n",
              "      <td>CAS-1452743-F5Q6W2</td>\n",
              "      <td>NaN</td>\n",
              "      <td>CBU</td>\n",
              "      <td>NaN</td>\n",
              "      <td>Resolved</td>\n",
              "      <td>Yes</td>\n",
              "      <td>Mobile_BO</td>\n",
              "      <td>29.07.2022 20:37</td>\n",
              "      <td>TCRMService</td>\n",
              "      <td>01.08.2022 08:21</td>\n",
              "      <td>Mobile_BO</td>\n",
              "      <td>ENNAS</td>\n",
              "      <td>2.0</td>\n",
              "      <td>Actual Complaint</td>\n",
              "      <td>SMS</td>\n",
              "      <td>System Administrator</td>\n",
              "      <td>Technical</td>\n",
              "      <td>Mobile</td>\n",
              "      <td>Technical complaint</td>\n",
              "    </tr>\n",
              "    <tr>\n",
              "      <th>...</th>\n",
              "      <td>...</td>\n",
              "      <td>...</td>\n",
              "      <td>...</td>\n",
              "      <td>...</td>\n",
              "      <td>...</td>\n",
              "      <td>...</td>\n",
              "      <td>...</td>\n",
              "      <td>...</td>\n",
              "      <td>...</td>\n",
              "      <td>...</td>\n",
              "      <td>...</td>\n",
              "      <td>...</td>\n",
              "      <td>...</td>\n",
              "      <td>...</td>\n",
              "      <td>...</td>\n",
              "      <td>...</td>\n",
              "      <td>...</td>\n",
              "      <td>...</td>\n",
              "      <td>...</td>\n",
              "    </tr>\n",
              "    <tr>\n",
              "      <th>10314</th>\n",
              "      <td>CAS-1436175-Y2Q8Q8</td>\n",
              "      <td>NaN</td>\n",
              "      <td>CBU</td>\n",
              "      <td>NaN</td>\n",
              "      <td>Resolved</td>\n",
              "      <td>Yes</td>\n",
              "      <td>Mobile_BO</td>\n",
              "      <td>28.07.2022 04:37</td>\n",
              "      <td>TCRMService</td>\n",
              "      <td>29.07.2022 17:18</td>\n",
              "      <td>ORANGE_MONEY_BO</td>\n",
              "      <td>MOHAMMAD</td>\n",
              "      <td>1.0</td>\n",
              "      <td>Not Actual Complaint</td>\n",
              "      <td>Phone</td>\n",
              "      <td>System Administrator</td>\n",
              "      <td>Technical</td>\n",
              "      <td>Mobile</td>\n",
              "      <td>Technical complaint</td>\n",
              "    </tr>\n",
              "    <tr>\n",
              "      <th>10356</th>\n",
              "      <td>CAS-613457-J0J2R9</td>\n",
              "      <td>NaN</td>\n",
              "      <td>CBU</td>\n",
              "      <td>NaN</td>\n",
              "      <td>Resolved</td>\n",
              "      <td>Yes</td>\n",
              "      <td>Mobile_BO</td>\n",
              "      <td>29.04.2022 22:21</td>\n",
              "      <td>TCRMService</td>\n",
              "      <td>03.05.2022 12:02</td>\n",
              "      <td>Mobile_BO</td>\n",
              "      <td>ENNAS</td>\n",
              "      <td>3.0</td>\n",
              "      <td>Actual Complaint</td>\n",
              "      <td>SMS</td>\n",
              "      <td>System Administrator</td>\n",
              "      <td>Technical</td>\n",
              "      <td>Mobile</td>\n",
              "      <td>Technical complaint</td>\n",
              "    </tr>\n",
              "    <tr>\n",
              "      <th>10363</th>\n",
              "      <td>CAS-585608-F3J7K1</td>\n",
              "      <td>NaN</td>\n",
              "      <td>CBU</td>\n",
              "      <td>NaN</td>\n",
              "      <td>Resolved</td>\n",
              "      <td>Yes</td>\n",
              "      <td>Mobile_BO</td>\n",
              "      <td>26.04.2022 20:56</td>\n",
              "      <td>TCRMService</td>\n",
              "      <td>28.04.2022 11:01</td>\n",
              "      <td>Mobile_BO</td>\n",
              "      <td>ENNAS</td>\n",
              "      <td>1.0</td>\n",
              "      <td>Not Actual Complaint</td>\n",
              "      <td>Phone</td>\n",
              "      <td>System Administrator</td>\n",
              "      <td>Technical</td>\n",
              "      <td>Mobile</td>\n",
              "      <td>Technical complaint</td>\n",
              "    </tr>\n",
              "    <tr>\n",
              "      <th>10384</th>\n",
              "      <td>CAS-1484120-F0V7Y3</td>\n",
              "      <td>NaN</td>\n",
              "      <td>CBU</td>\n",
              "      <td>NaN</td>\n",
              "      <td>Resolved</td>\n",
              "      <td>Yes</td>\n",
              "      <td>Mobile_BO</td>\n",
              "      <td>01.08.2022 20:16</td>\n",
              "      <td>TCRMService</td>\n",
              "      <td>02.08.2022 10:32</td>\n",
              "      <td>Mobile_BO</td>\n",
              "      <td>ENNAS</td>\n",
              "      <td>1.0</td>\n",
              "      <td>Actual Complaint</td>\n",
              "      <td>SMS</td>\n",
              "      <td>System Administrator</td>\n",
              "      <td>Technical</td>\n",
              "      <td>Mobile</td>\n",
              "      <td>Technical complaint</td>\n",
              "    </tr>\n",
              "    <tr>\n",
              "      <th>10398</th>\n",
              "      <td>CAS-639594-V7Q7Q0</td>\n",
              "      <td>NaN</td>\n",
              "      <td>CBU</td>\n",
              "      <td>NaN</td>\n",
              "      <td>Resolved</td>\n",
              "      <td>Yes</td>\n",
              "      <td>Mobile_BO</td>\n",
              "      <td>03.05.2022 17:40</td>\n",
              "      <td>TCRMService</td>\n",
              "      <td>04.05.2022 09:18</td>\n",
              "      <td>ORANGE_MONEY_BO</td>\n",
              "      <td>MOHAMMAD</td>\n",
              "      <td>1.0</td>\n",
              "      <td>Actual Complaint</td>\n",
              "      <td>SMS</td>\n",
              "      <td>System Administrator</td>\n",
              "      <td>Technical</td>\n",
              "      <td>Mobile</td>\n",
              "      <td>Technical complaint</td>\n",
              "    </tr>\n",
              "  </tbody>\n",
              "</table>\n",
              "<p>1216 rows × 19 columns</p>\n",
              "</div>"
            ],
            "text/plain": [
              "                  CASE_ID OFFER_NAME CUSTOMER_TYPE CUSTOMER_GROUP  \\\n",
              "1       CAS-388567-W4B9Q3        NaN           CBU            NaN   \n",
              "7      CAS-1402363-R0K4K0        NaN           CBU            NaN   \n",
              "10      CAS-592778-K0F2X3        NaN           CBU            NaN   \n",
              "12      CAS-495398-Y7N3Q8        NaN           CBU            NaN   \n",
              "13     CAS-1452743-F5Q6W2        NaN           CBU            NaN   \n",
              "...                   ...        ...           ...            ...   \n",
              "10314  CAS-1436175-Y2Q8Q8        NaN           CBU            NaN   \n",
              "10356   CAS-613457-J0J2R9        NaN           CBU            NaN   \n",
              "10363   CAS-585608-F3J7K1        NaN           CBU            NaN   \n",
              "10384  CAS-1484120-F0V7Y3        NaN           CBU            NaN   \n",
              "10398   CAS-639594-V7Q7Q0        NaN           CBU            NaN   \n",
              "\n",
              "      CURRENT_STATUS ESCALATION_FLAG ESCALATED_GROUP         OPEN_DATE  \\\n",
              "1           Resolved             Yes       Mobile_BO  04.04.2022 14:11   \n",
              "7           Resolved             Yes       Mobile_BO  25.07.2022 03:09   \n",
              "10          Resolved             Yes       Mobile_BO  27.04.2022 14:03   \n",
              "12          Resolved             Yes       Mobile_BO  17.04.2022 18:32   \n",
              "13          Resolved             Yes       Mobile_BO  29.07.2022 20:37   \n",
              "...              ...             ...             ...               ...   \n",
              "10314       Resolved             Yes       Mobile_BO  28.07.2022 04:37   \n",
              "10356       Resolved             Yes       Mobile_BO  29.04.2022 22:21   \n",
              "10363       Resolved             Yes       Mobile_BO  26.04.2022 20:56   \n",
              "10384       Resolved             Yes       Mobile_BO  01.08.2022 20:16   \n",
              "10398       Resolved             Yes       Mobile_BO  03.05.2022 17:40   \n",
              "\n",
              "         OPEN_USER        CLOSE_DATE      CLOSE_GROUP   CLOSE_USER  \\\n",
              "1      TCRMService  05.04.2022 12:13        Mobile_BO        ENNAS   \n",
              "7      TCRMService  27.07.2022 17:58  ORANGE_MONEY_BO     IBRAHEEM   \n",
              "10     TCRMService  05.05.2022 16:03        Mobile_BO  TCRMService   \n",
              "12     TCRMService  19.04.2022 15:22  ORANGE_MONEY_BO     MOHAMMAD   \n",
              "13     TCRMService  01.08.2022 08:21        Mobile_BO        ENNAS   \n",
              "...            ...               ...              ...          ...   \n",
              "10314  TCRMService  29.07.2022 17:18  ORANGE_MONEY_BO     MOHAMMAD   \n",
              "10356  TCRMService  03.05.2022 12:02        Mobile_BO        ENNAS   \n",
              "10363  TCRMService  28.04.2022 11:01        Mobile_BO        ENNAS   \n",
              "10384  TCRMService  02.08.2022 10:32        Mobile_BO        ENNAS   \n",
              "10398  TCRMService  04.05.2022 09:18  ORANGE_MONEY_BO     MOHAMMAD   \n",
              "\n",
              "       AGE_BRACKET      ACTUAL_COMPLAINT CALLBACK_MECHANISM  \\\n",
              "1              1.0  Not Actual Complaint              Phone   \n",
              "7              2.0      Actual Complaint              Phone   \n",
              "10             8.0      Actual Complaint              Phone   \n",
              "12             1.0      Actual Complaint              Phone   \n",
              "13             2.0      Actual Complaint                SMS   \n",
              "...            ...                   ...                ...   \n",
              "10314          1.0  Not Actual Complaint              Phone   \n",
              "10356          3.0      Actual Complaint                SMS   \n",
              "10363          1.0  Not Actual Complaint              Phone   \n",
              "10384          1.0      Actual Complaint                SMS   \n",
              "10398          1.0      Actual Complaint                SMS   \n",
              "\n",
              "                    OPEN_GR COMPLAINT_TYPE PRODUCT                 CASE  \n",
              "1      System Administrator     Commercial  Mobile     Commercial claim  \n",
              "7      System Administrator     Commercial  Mobile     Commercial claim  \n",
              "10     System Administrator     Commercial  Mobile     Commercial claim  \n",
              "12     System Administrator     Commercial  Mobile     Commercial claim  \n",
              "13     System Administrator      Technical  Mobile  Technical complaint  \n",
              "...                     ...            ...     ...                  ...  \n",
              "10314  System Administrator      Technical  Mobile  Technical complaint  \n",
              "10356  System Administrator      Technical  Mobile  Technical complaint  \n",
              "10363  System Administrator      Technical  Mobile  Technical complaint  \n",
              "10384  System Administrator      Technical  Mobile  Technical complaint  \n",
              "10398  System Administrator      Technical  Mobile  Technical complaint  \n",
              "\n",
              "[1216 rows x 19 columns]"
            ]
          },
          "execution_count": 11,
          "metadata": {},
          "output_type": "execute_result"
        }
      ],
      "source": [
        "df[df['OFFER_NAME'].isnull()]"
      ]
    },
    {
      "cell_type": "code",
      "execution_count": 12,
      "metadata": {
        "colab": {
          "base_uri": "https://localhost:8080/"
        },
        "id": "18rDi00ndMRV",
        "outputId": "28b475ab-6f78-4680-b559-74a7694c7b28"
      },
      "outputs": [
        {
          "name": "stdout",
          "output_type": "stream",
          "text": [
            "OFFER_NAME        1127\n",
            "CUSTOMER_GROUP    1127\n",
            "dtype: int64\n"
          ]
        }
      ],
      "source": [
        "filtered_df = df[df['OPEN_USER'] == 'TCRMService']\n",
        "counts = filtered_df[['OFFER_NAME','CUSTOMER_GROUP']].isnull().sum()\n",
        "print(counts)\n"
      ]
    },
    {
      "cell_type": "code",
      "execution_count": 13,
      "metadata": {
        "colab": {
          "base_uri": "https://localhost:8080/"
        },
        "id": "kPMLoKWqocuU",
        "outputId": "ea506eb5-7ee2-4e78-cf9b-ebb4b329a50c"
      },
      "outputs": [],
      "source": [
        "df['OFFER_NAME'] = np.where(df['OPEN_USER'] == 'TCRMService', df['OFFER_NAME'].fillna('NO_OFFER_NAME'),df['OFFER_NAME'])\n",
        "df['CUSTOMER_GROUP'] = np.where(df['OPEN_USER'] == 'TCRMService', df['CUSTOMER_GROUP'].fillna('NO_GROUP'),df['CUSTOMER_GROUP'])\n"
      ]
    },
    {
      "cell_type": "code",
      "execution_count": 14,
      "metadata": {
        "colab": {
          "base_uri": "https://localhost:8080/"
        },
        "id": "FLL_I2iwZ2XI",
        "outputId": "6f646c31-1f6a-4864-96b6-dd6ac832db0e"
      },
      "outputs": [
        {
          "name": "stdout",
          "output_type": "stream",
          "text": [
            "The most frequent Group for FTTH Home is: FTTH Home\n"
          ]
        }
      ],
      "source": [
        "\n",
        "# Input value to select rows\n",
        "selected_Name_OFFER_NAME = 'FTTH Home'\n",
        "\n",
        "# Filter the dataframe based on the selected Offer Name\n",
        "filtered_df = df[df['OFFER_NAME'] == selected_Name_OFFER_NAME]\n",
        "    \n",
        "# Count the frequency of elements in the filtered dataframe\n",
        "counts = filtered_df['CUSTOMER_GROUP'].value_counts()\n",
        "\n",
        "# Print the most frequent Group\n",
        "most_frequent_Group = counts.index[0]\n",
        "print(f\"The most frequent Group for {selected_Name_OFFER_NAME} is: {most_frequent_Group}\")\n"
      ]
    },
    {
      "cell_type": "code",
      "execution_count": 15,
      "metadata": {
        "colab": {
          "base_uri": "https://localhost:8080/"
        },
        "id": "E6kQFQ8tm66L",
        "outputId": "9c70f296-9981-45a6-86b8-054c8730ba17"
      },
      "outputs": [],
      "source": [
        "df['CUSTOMER_GROUP'] = np.where(df['OFFER_NAME'] == 'FTTH Home', df['CUSTOMER_GROUP'].fillna('FTTH Home'),df['CUSTOMER_GROUP'] )\n",
        "df['OFFER_NAME'] = np.where(df['CUSTOMER_GROUP'] == 'FTTH Home', df['OFFER_NAME'].fillna('FTTH Home'),df['OFFER_NAME'] )"
      ]
    },
    {
      "cell_type": "code",
      "execution_count": 16,
      "metadata": {
        "colab": {
          "base_uri": "https://localhost:8080/"
        },
        "id": "bGcZsPkRoaFI",
        "outputId": "8f2331ce-99e0-4215-dab4-c2e5d2126280"
      },
      "outputs": [
        {
          "name": "stdout",
          "output_type": "stream",
          "text": [
            "The most frequent Offer Name for Wanadoo-ADSL-Res is: Bitstream Home\n"
          ]
        }
      ],
      "source": [
        "filtered_df1 = df[df['CUSTOMER_GROUP'] == 'Wanadoo-ADSL-Res']\n",
        "counts = filtered_df1['OFFER_NAME'].value_counts()\n",
        "most_frequent_Group = counts.index[0]\n",
        "print(f\"The most frequent Offer Name for {'Wanadoo-ADSL-Res'} is: {most_frequent_Group}\")"
      ]
    },
    {
      "cell_type": "code",
      "execution_count": 17,
      "metadata": {
        "id": "oeSaQZ_FpcE-"
      },
      "outputs": [],
      "source": [
        "df['OFFER_NAME'] = np.where(df['CUSTOMER_GROUP'] == 'Wanadoo-ADSL-Res', df['OFFER_NAME'].fillna('Bitstream Home'),df['OFFER_NAME'] )"
      ]
    },
    {
      "cell_type": "code",
      "execution_count": 18,
      "metadata": {
        "id": "Qai6md51qOfk"
      },
      "outputs": [],
      "source": [
        "# When OFFER_NAME = Orange Gov 10 CC is CUSTOMER_GROUP = PM Governorate\n",
        "df['CUSTOMER_GROUP'] = np.where(df['OFFER_NAME'] == 'Orange Gov 10 CC', df['CUSTOMER_GROUP'].fillna('PM Governorate'),df['CUSTOMER_GROUP'])\n",
        "df['CUSTOMER_GROUP'] = df['CUSTOMER_GROUP'].fillna('Prepaid')"
      ]
    },
    {
      "cell_type": "code",
      "execution_count": 19,
      "metadata": {
        "id": "qe41Pa2lpmN2"
      },
      "outputs": [],
      "source": [
        "df = df.dropna(subset=['OFFER_NAME'])"
      ]
    },
    {
      "cell_type": "markdown",
      "metadata": {
        "id": "bw8LatKIs0h_"
      },
      "source": [
        "**Open and cloce Group**"
      ]
    },
    {
      "cell_type": "code",
      "execution_count": 20,
      "metadata": {
        "colab": {
          "base_uri": "https://localhost:8080/"
        },
        "id": "E5KljX9BzejA",
        "outputId": "b28f718a-4868-4aac-d975-8fc4a961d9a4"
      },
      "outputs": [
        {
          "name": "stdout",
          "output_type": "stream",
          "text": [
            "No data available for nan\n",
            "No data available for Privileged CSR\n",
            "No data available for nan\n"
          ]
        }
      ],
      "source": [
        "# Get a list of unique elements in the OPEN_GR column\n",
        "open_gr_elements = df['OPEN_GR'].unique()\n",
        "\n",
        "# Loop through each element in open_gr_elements\n",
        "for selected in open_gr_elements:\n",
        "\n",
        "  # Filter the dataframe based on the selected Offer Name\n",
        "  filtered_df = df[df['OPEN_GR'] == selected]\n",
        "\n",
        "  # Count the frequency of elements in the filtered dataframe\n",
        "  close_group_counts = filtered_df['CLOSE_GROUP'].value_counts()\n",
        "  \n",
        "  # Check if close_group_counts is not empty\n",
        "  if close_group_counts.empty:\n",
        "    print(f\"No data available for {selected}\")\n",
        "  else:\n",
        "    # Get the most frequent Close Group\n",
        "    most_frequent_close_group = close_group_counts.index[0]\n",
        "    \n",
        "    # Fill in the missing values in CLOSE_GROUP for the current OPEN_GR with the most frequent Close Group\n",
        "    df.loc[(df['OPEN_GR'] == selected) & (df['CLOSE_GROUP'].isna()), 'CLOSE_GROUP'] = most_frequent_close_group\n",
        "\n",
        "# Get a list of unique elements in the CLOSE_GROUP column\n",
        "close_group_elements = df['CLOSE_GROUP'].unique()\n",
        "\n",
        "# Loop through each element in close_group_elements\n",
        "for selected in close_group_elements:\n",
        "\n",
        "  # Filter the dataframe based on the selected Close Group\n",
        "  filtered_df = df[df['CLOSE_GROUP'] == selected]\n",
        "\n",
        "  # Count the frequency of elements in the filtered dataframe\n",
        "  open_gr_counts = filtered_df['OPEN_GR'].value_counts()\n",
        "  \n",
        "  # Check if open_gr_counts is not empty\n",
        "  if open_gr_counts.empty:\n",
        "    print(f\"No data available for {selected}\")\n",
        "  else:\n",
        "    # Get the most frequent Open GR\n",
        "    most_frequent_open_gr = open_gr_counts.index[0]\n",
        "    \n",
        "    # Fill in the missing values in OPEN_GR for the current CLOSE_GROUP with the most frequent Open GR\n",
        "    df.loc[(df['CLOSE_GROUP'] == selected) & (df['OPEN_GR'].isna()), 'OPEN_GR'] = most_frequent_open_gr\n"
      ]
    },
    {
      "cell_type": "code",
      "execution_count": 21,
      "metadata": {
        "id": "vjHRAwgF2Zfr"
      },
      "outputs": [],
      "source": [
        "df['CLOSE_GROUP'] = df['CLOSE_GROUP'].fillna('NO_CLOSE_GROUP')\n",
        "df['OPEN_GR'] = df['OPEN_GR'].fillna('NO_OPEN_GR')"
      ]
    },
    {
      "cell_type": "code",
      "execution_count": 22,
      "metadata": {
        "colab": {
          "base_uri": "https://localhost:8080/"
        },
        "id": "S3qtX50yZ2XK",
        "outputId": "c78f20de-783d-4fe5-f0ba-b4ee84e5743b"
      },
      "outputs": [
        {
          "data": {
            "text/plain": [
              "CASE_ID               0\n",
              "OFFER_NAME            0\n",
              "CUSTOMER_TYPE         0\n",
              "CUSTOMER_GROUP        0\n",
              "CURRENT_STATUS        0\n",
              "ESCALATION_FLAG       0\n",
              "ESCALATED_GROUP       0\n",
              "OPEN_DATE             0\n",
              "OPEN_USER             0\n",
              "CLOSE_DATE            0\n",
              "CLOSE_GROUP           0\n",
              "CLOSE_USER            0\n",
              "AGE_BRACKET           0\n",
              "ACTUAL_COMPLAINT      0\n",
              "CALLBACK_MECHANISM    0\n",
              "OPEN_GR               0\n",
              "COMPLAINT_TYPE        0\n",
              "PRODUCT               0\n",
              "CASE                  0\n",
              "dtype: int64"
            ]
          },
          "execution_count": 22,
          "metadata": {},
          "output_type": "execute_result"
        }
      ],
      "source": [
        "df.isnull().sum()"
      ]
    },
    {
      "cell_type": "markdown",
      "metadata": {
        "id": "pYbrxczj3OxA"
      },
      "source": [
        "**ML modeling**"
      ]
    },
    {
      "cell_type": "markdown",
      "metadata": {
        "id": "JYr6FI9-3UWo"
      },
      "source": [
        "**Data split**"
      ]
    },
    {
      "cell_type": "code",
      "execution_count": 23,
      "metadata": {
        "id": "nBMoy4VW3SPQ"
      },
      "outputs": [],
      "source": [
        "from sklearn.preprocessing import LabelEncoder\n",
        "from sklearn.model_selection import train_test_split\n",
        "from sklearn.neighbors import KNeighborsClassifier\n",
        "from sklearn.tree import DecisionTreeClassifier\n",
        "from sklearn.naive_bayes import GaussianNB\n",
        "from sklearn.metrics import accuracy_score,precision_score, recall_score, f1_score"
      ]
    },
    {
      "cell_type": "code",
      "execution_count": 24,
      "metadata": {
        "id": "m_SqfNol3a8v"
      },
      "outputs": [],
      "source": [
        "cat_columns = df.select_dtypes(['object']).columns\n",
        "\n",
        "label_encoder = LabelEncoder()\n",
        "df[cat_columns] = df[cat_columns].apply(LabelEncoder().fit_transform)\n",
        "\n",
        "# storing the input values in the X variable\n",
        "X = df.drop([\"COMPLAINT_TYPE\"], axis=1)\n",
        "\n",
        "# storing all the ouputs in y variable\n",
        "y = df[\"COMPLAINT_TYPE\"]"
      ]
    },
    {
      "cell_type": "markdown",
      "metadata": {
        "id": "mddgHSWrRAgn"
      },
      "source": [
        "**Training By KNN**"
      ]
    },
    {
      "cell_type": "code",
      "execution_count": 25,
      "metadata": {
        "id": "0TTnWOtJWjTv"
      },
      "outputs": [],
      "source": [
        "report = pd.DataFrame(index=[\"accuracy_score\",\"precision_score\",\"recall_score\",\"f1_score\"],columns=[\"KNN\",\"DT\",\"NB\"])"
      ]
    },
    {
      "cell_type": "code",
      "execution_count": 26,
      "metadata": {
        "id": "nkAbhayRjgbm"
      },
      "outputs": [],
      "source": [
        "#Build the KNN model and perform training.\n",
        "classifer = KNeighborsClassifier(n_neighbors=3 )"
      ]
    },
    {
      "cell_type": "code",
      "execution_count": 27,
      "metadata": {
        "colab": {
          "base_uri": "https://localhost:8080/"
        },
        "id": "DZhbdqDXbgvN",
        "outputId": "ba90c6a9-cd28-42e6-8df8-bf957b123773"
      },
      "outputs": [
        {
          "name": "stdout",
          "output_type": "stream",
          "text": [
            "==============================================\n",
            "Average Accuracy: 0.7824245374878285\n",
            "Average Precision: 0.8201825347701541\n",
            "Average Recall: 0.9183016624667071\n",
            "Average F1-Score: 0.8664109331121953\n"
          ]
        }
      ],
      "source": [
        "KNN_sum_acc = 0\n",
        "KNN_sum_pre = 0\n",
        "KNN_sum_rec = 0\n",
        "KNN_sum_f1 = 0\n",
        "\n",
        "for i in range(10):\n",
        "  X_train, X_test, y_train, y_test = train_test_split(X, y, test_size=0.2)\n",
        "  # Performing training\n",
        "  classifer.fit(X_train,y_train)\n",
        "  #Calculate predictions (y_pred) using X_test\n",
        "  y_pred= classifer.predict(X_test)\n",
        "  # Display evaluation report\n",
        "  KNN_accuracy = accuracy_score(y_test,y_pred)\n",
        "  KNN_sum_acc = KNN_sum_acc + KNN_accuracy\n",
        "  KNN_precision = precision_score(y_test,y_pred)\n",
        "  KNN_sum_pre = KNN_sum_pre + KNN_precision\n",
        "  KNN_recall = recall_score(y_test,y_pred)\n",
        "  KNN_sum_rec = KNN_sum_rec + KNN_recall\n",
        "  KNN_F1_score = f1_score(y_test,y_pred)\n",
        "  KNN_sum_f1 = KNN_sum_f1 + KNN_F1_score\n",
        "print('==============================================')\n",
        "print('Average Accuracy:', KNN_sum_acc/10)\n",
        "print('Average Precision:', KNN_sum_pre/10)\n",
        "print('Average Recall:', KNN_sum_rec/10)\n",
        "print('Average F1-Score:', KNN_sum_f1/10)\n",
        "report['KNN'] = [KNN_sum_acc/10, KNN_sum_pre/10, KNN_sum_rec/10, KNN_sum_f1/10]"
      ]
    },
    {
      "cell_type": "markdown",
      "metadata": {
        "id": "5YgVXSpIX57i"
      },
      "source": [
        "**Train by Decision Tree**"
      ]
    },
    {
      "cell_type": "code",
      "execution_count": 28,
      "metadata": {
        "colab": {
          "base_uri": "https://localhost:8080/"
        },
        "id": "LVp4Mcx8X869",
        "outputId": "41898310-c8f3-4b27-f2a6-970d44afb4ad"
      },
      "outputs": [
        {
          "name": "stdout",
          "output_type": "stream",
          "text": [
            "==============================================\n",
            "Average Accuracy: 0.994888023369036\n",
            "Average Precision: 0.9961639049279409\n",
            "Average Recall: 0.9972304447320706\n",
            "Average F1-Score: 0.9966958869688666\n"
          ]
        }
      ],
      "source": [
        "DT_sum_acc = 0\n",
        "DT_sum_pre = 0\n",
        "DT_sum_rec = 0\n",
        "DT_sum_f1 = 0\n",
        "# Create Decision Tree classifer object\n",
        "classifer2 = DecisionTreeClassifier()\n",
        "for i in range(10):\n",
        "  X_train, X_test, y_train, y_test = train_test_split(X, y, test_size=0.2)\n",
        "  # Train Decision Tree Classifer\n",
        "  classifer2 = classifer2.fit(X_train,y_train)\n",
        "  #Predict the response for test dataset\n",
        "  y_pred = classifer2.predict(X_test)\n",
        "  DT_accuracy = accuracy_score(y_test,y_pred)\n",
        "  DT_sum_acc = DT_sum_acc + DT_accuracy\n",
        "  DT_precision = precision_score(y_test,y_pred)\n",
        "  DT_sum_pre = DT_sum_pre + DT_precision\n",
        "  DT_recall = recall_score(y_test,y_pred)\n",
        "  DT_sum_rec = DT_sum_rec + DT_recall\n",
        "  DT_F1_score = f1_score(y_test,y_pred)\n",
        "  DT_sum_f1 = DT_sum_f1 + DT_F1_score\n",
        "\n",
        "print('==============================================')\n",
        "print('Average Accuracy:', DT_sum_acc/10)\n",
        "print('Average Precision:', DT_sum_pre/10)\n",
        "print('Average Recall:', DT_sum_rec/10)\n",
        "print('Average F1-Score:', DT_sum_f1/10)\n",
        "report['DT'] = [DT_sum_acc/10, DT_sum_pre/10, DT_sum_rec/10, DT_sum_f1/10]\n"
      ]
    },
    {
      "cell_type": "markdown",
      "metadata": {
        "id": "9E-Ap2wFYWHM"
      },
      "source": [
        "**Train by Gaussian Naive Bayes**"
      ]
    },
    {
      "cell_type": "code",
      "execution_count": 29,
      "metadata": {
        "colab": {
          "base_uri": "https://localhost:8080/"
        },
        "id": "HKXkr5LgYZio",
        "outputId": "1fc138f5-ae52-42ce-8ecb-a67b08d7bad2"
      },
      "outputs": [
        {
          "name": "stdout",
          "output_type": "stream",
          "text": [
            "==============================================\n",
            "Average Accuracy: 0.979308666017527\n",
            "Average Precision: 0.993615561656217\n",
            "Average Recall: 0.9795601547923308\n",
            "Average F1-Score: 0.9865336930835351\n"
          ]
        }
      ],
      "source": [
        "NB_sum_acc = 0\n",
        "NB_sum_pre = 0\n",
        "NB_sum_rec = 0\n",
        "NB_sum_f1 = 0\n",
        "# Create Gaussian Naive Bayes classifer object\n",
        "classifer3 = GaussianNB()\n",
        "for i in range(10):\n",
        "  X_train, X_test, y_train, y_test = train_test_split(X, y, test_size=0.2)\n",
        "  # Train Decision Tree Classifer\n",
        "  classifer3 = classifer3.fit(X_train,y_train)\n",
        "  #Predict the response for test dataset\n",
        "  y_pred = classifer3.predict(X_test)\n",
        "  NB_accuracy = accuracy_score(y_test,y_pred)\n",
        "  NB_sum_acc = NB_sum_acc + NB_accuracy\n",
        "  NB_precision = precision_score(y_test,y_pred)\n",
        "  NB_sum_pre = NB_sum_pre + NB_precision\n",
        "  NB_recall = recall_score(y_test,y_pred)\n",
        "  NB_sum_rec = NB_sum_rec + NB_recall\n",
        "  NB_F1_score = f1_score(y_test,y_pred)\n",
        "  NB_sum_f1 = NB_sum_f1 + NB_F1_score\n",
        "\n",
        "print('==============================================')\n",
        "print('Average Accuracy:', NB_sum_acc/10)\n",
        "print('Average Precision:', NB_sum_pre/10)\n",
        "print('Average Recall:', NB_sum_rec/10)\n",
        "print('Average F1-Score:', NB_sum_f1/10)\n",
        "report['NB'] = [NB_sum_acc/10, NB_sum_pre/10, NB_sum_rec/10, NB_sum_f1/10]"
      ]
    },
    {
      "cell_type": "code",
      "execution_count": 30,
      "metadata": {
        "colab": {
          "base_uri": "https://localhost:8080/",
          "height": 175
        },
        "id": "_e92FjS8elue",
        "outputId": "22c7985e-6132-4da0-b606-b3bcade95fa0"
      },
      "outputs": [
        {
          "data": {
            "text/html": [
              "<div>\n",
              "<style scoped>\n",
              "    .dataframe tbody tr th:only-of-type {\n",
              "        vertical-align: middle;\n",
              "    }\n",
              "\n",
              "    .dataframe tbody tr th {\n",
              "        vertical-align: top;\n",
              "    }\n",
              "\n",
              "    .dataframe thead th {\n",
              "        text-align: right;\n",
              "    }\n",
              "</style>\n",
              "<table border=\"1\" class=\"dataframe\">\n",
              "  <thead>\n",
              "    <tr style=\"text-align: right;\">\n",
              "      <th></th>\n",
              "      <th>KNN</th>\n",
              "      <th>DT</th>\n",
              "      <th>NB</th>\n",
              "    </tr>\n",
              "  </thead>\n",
              "  <tbody>\n",
              "    <tr>\n",
              "      <th>accuracy_score</th>\n",
              "      <td>0.782</td>\n",
              "      <td>0.995</td>\n",
              "      <td>0.979</td>\n",
              "    </tr>\n",
              "    <tr>\n",
              "      <th>precision_score</th>\n",
              "      <td>0.820</td>\n",
              "      <td>0.996</td>\n",
              "      <td>0.994</td>\n",
              "    </tr>\n",
              "    <tr>\n",
              "      <th>recall_score</th>\n",
              "      <td>0.918</td>\n",
              "      <td>0.997</td>\n",
              "      <td>0.980</td>\n",
              "    </tr>\n",
              "    <tr>\n",
              "      <th>f1_score</th>\n",
              "      <td>0.866</td>\n",
              "      <td>0.997</td>\n",
              "      <td>0.987</td>\n",
              "    </tr>\n",
              "  </tbody>\n",
              "</table>\n",
              "</div>"
            ],
            "text/plain": [
              "                   KNN     DT     NB\n",
              "accuracy_score   0.782  0.995  0.979\n",
              "precision_score  0.820  0.996  0.994\n",
              "recall_score     0.918  0.997  0.980\n",
              "f1_score         0.866  0.997  0.987"
            ]
          },
          "execution_count": 30,
          "metadata": {},
          "output_type": "execute_result"
        }
      ],
      "source": [
        "report.round(3)"
      ]
    },
    {
      "cell_type": "markdown",
      "metadata": {
        "id": "8M_3q-tuYv8k"
      },
      "source": [
        "**Data Visualization**"
      ]
    },
    {
      "cell_type": "code",
      "execution_count": 31,
      "metadata": {
        "colab": {
          "base_uri": "https://localhost:8080/",
          "height": 295
        },
        "id": "RohSwl4tgU7L",
        "outputId": "521c9122-f1da-4e74-b66b-06dfc4b096f9"
      },
      "outputs": [
        {
          "data": {
            "image/png": "[encoded data removed]",
            "text/plain": [
              "<Figure size 640x480 with 1 Axes>"
            ]
          },
          "metadata": {},
          "output_type": "display_data"
        }
      ],
      "source": [
        "import matplotlib.pyplot as plt\n",
        "\n",
        "# data for the bar chart\n",
        "ML_model_name = ['KNN','DT','NB']\n",
        "ML_model_accuracy = [KNN_accuracy,DT_accuracy,NB_accuracy]\n",
        "ML_model_precision = [KNN_precision,DT_precision,NB_precision]\n",
        "ML_model_Recall = [KNN_recall,DT_recall,NB_recall]\n",
        "ML_model_F_measure = [KNN_F1_score,DT_F1_score,NB_F1_score]\n",
        "\n",
        "# create the bar chart\n",
        "barWidth = 0.2\n",
        "\n",
        "r1 = np.arange(len(ML_model_accuracy))\n",
        "r2 = [x + barWidth for x in r1]\n",
        "r3 = [x + barWidth for x in r2]\n",
        "r4 = [x + barWidth for x in r3]\n",
        "\n",
        "plt.bar(r1,ML_model_accuracy, color='b', width=barWidth, label='accuracy',edgecolor = 'black')\n",
        "plt.bar(r2,ML_model_precision, color='r', width=barWidth, label='precision',edgecolor = 'black')\n",
        "plt.bar(r3,ML_model_Recall, color='y', width=barWidth, label='Recall',edgecolor = 'black')\n",
        "plt.bar(r4,ML_model_F_measure, color='g', width=barWidth, label='F_measure',edgecolor = 'black')\n",
        "\n",
        "# add labels and title\n",
        "plt.xlabel(\"Machine learning model\")\n",
        "plt.ylabel(\"Percentage\")\n",
        "plt.title(\"Summary of Results\")\n",
        "plt.xticks(r1+0.25, ML_model_name )\n",
        "\n",
        "\n",
        "# add a legend\n",
        "plt.legend(bbox_to_anchor=(1, 1))\n",
        "\n",
        "# display the chart\n",
        "plt.show()\n"
      ]
    },
    {
      "cell_type": "markdown",
      "metadata": {
        "id": "KinCJdirnG26"
      },
      "source": [
        "**Radar Chart**"
      ]
    },
    {
      "cell_type": "code",
      "execution_count": 32,
      "metadata": {
        "colab": {
          "base_uri": "https://localhost:8080/",
          "height": 452
        },
        "id": "TTDpciCUnKKU",
        "outputId": "5a4b0edc-64d4-4524-e3cf-f0c1f9b30964"
      },
      "outputs": [
        {
          "data": {
            "image/png": "[encoded data removed]",
            "text/plain": [
              "<Figure size 600x600 with 1 Axes>"
            ]
          },
          "metadata": {},
          "output_type": "display_data"
        }
      ],
      "source": [
        "subjects=['Accuracy','Precision','Recall','F measure']\n",
        "knn=[KNN_accuracy,KNN_precision,KNN_recall,KNN_F1_score]\n",
        "DT=[DT_accuracy,DT_precision,DT_recall,DT_F1_score]\n",
        "NB=[NB_accuracy,NB_precision,NB_recall,NB_F1_score]\n",
        "\n",
        "angles=np.linspace(0,2*np.pi,len(subjects), endpoint=False)\n",
        "\n",
        "#add the first angle at the end of the array to completely describe the circle.\n",
        "angles=np.concatenate((angles,[angles[0]]))\n",
        "\n",
        "subjects.append(subjects[0])\n",
        "knn.append(knn[0])\n",
        "DT.append(DT[0])\n",
        "NB.append(NB[0])\n",
        "\n",
        "fig=plt.figure(figsize=(6,6))\n",
        "ax=fig.add_subplot(polar=True)\n",
        "\n",
        "plt.subplot(polar=True)\n",
        "plt.plot(angles,knn , '<--',color='g',label='Knn')\n",
        "plt.plot(angles,DT ,'o--',color='b',label='DT')\n",
        "plt.plot(angles,NB, '+--',color='y',label='NB')\n",
        "# ax.fill(angles, knn, alpha=0.25, color='g')\n",
        "# ax.fill(angles, DT, alpha=0.25, color='b')\n",
        "# ax.fill(angles, NB, alpha=0.25, color='y')\n",
        "\n",
        "ax.set_thetagrids(angles * 180/np.pi, subjects)\n",
        "plt.grid(True)\n",
        "plt.legend()\n",
        "plt.show()"
      ]
    }
  ],
  "metadata": {
    "colab": {
      "provenance": []
    },
    "kernelspec": {
      "display_name": "Python 3",
      "language": "python",
      "name": "python3"
    },
    "language_info": {
      "codemirror_mode": {
        "name": "ipython",
        "version": 3
      },
      "file_extension": ".py",
      "mimetype": "text/x-python",
      "name": "python",
      "nbconvert_exporter": "python",
      "pygments_lexer": "ipython3",
      "version": "3.11.9"
    },
    "orig_nbformat": 4,
    "vscode": {
      "interpreter": {
        "hash": "c11ac1c2a5e8b69ca6f90dfc3de5291b6a137cfbdff9f5a9fbd7433bd2554574"
      }
    }
  },
  "nbformat": 4,
  "nbformat_minor": 0
}
